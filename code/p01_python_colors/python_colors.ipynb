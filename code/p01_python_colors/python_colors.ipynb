{
 "cells": [
  {
   "cell_type": "markdown",
   "metadata": {},
   "source": [
    "# Predefined colors in Python"
   ]
  },
  {
   "cell_type": "code",
   "execution_count": null,
   "metadata": {},
   "outputs": [],
   "source": [
    "import numpy as np\n",
    "import matplotlib.pyplot as plt\n",
    "import matplotlib.colors as mpl_colors\n",
    "%matplotlib notebook"
   ]
  },
  {
   "cell_type": "markdown",
   "metadata": {},
   "source": [
    "### What methods/attributes can be used?"
   ]
  },
  {
   "cell_type": "code",
   "execution_count": null,
   "metadata": {},
   "outputs": [],
   "source": [
    "dir(mpl_colors)"
   ]
  },
  {
   "cell_type": "markdown",
   "metadata": {},
   "source": [
    "## Plotting the available base colors"
   ]
  },
  {
   "cell_type": "code",
   "execution_count": null,
   "metadata": {},
   "outputs": [],
   "source": [
    "bcolors = mpl_colors.BASE_COLORS"
   ]
  },
  {
   "cell_type": "code",
   "execution_count": null,
   "metadata": {},
   "outputs": [],
   "source": [
    "fig, ax = plt.subplots()\n",
    "# x, y = np.random.rand(len(bcolors)), np.random.rand(len(bcolors))\n",
    "\n",
    "mu, sigma = 0, 0.5 # mean and standard deviation\n",
    "x = np.random.normal(mu, sigma, len(bcolors))\n",
    "y = np.random.normal(mu, sigma, len(bcolors))\n",
    "\n",
    "s = np.random.randint(1000, high=2000, size=len(bcolors))\n",
    "ax.scatter(x, y, s=s, c=list(bcolors.keys()), edgecolors='k')\n",
    "ax.set_title('Base colors in matplotlib', fontsize=12, color='dodgerblue', fontweight='bold')\n",
    "# ax.axes.get_xaxis().set_visible(False)\n",
    "# ax.axes.get_yaxis().set_visible(False)\n",
    "ax.axis('off')\n",
    "\n",
    "if False:\n",
    "    plt.savefig('base_colors.png', dpi=300)"
   ]
  },
  {
   "cell_type": "markdown",
   "metadata": {},
   "source": [
    "### Create a dictionary to harbor all the available colors, bothe the base colors and the larger list of named colors"
   ]
  },
  {
   "cell_type": "code",
   "execution_count": null,
   "metadata": {},
   "outputs": [],
   "source": [
    "ncolors = mpl_colors.CSS4_COLORS\n",
    "bn_colors = dict(**bcolors, **ncolors)"
   ]
  },
  {
   "cell_type": "markdown",
   "metadata": {},
   "source": [
    "### Sort colors using: hue, saturation, value, name"
   ]
  },
  {
   "cell_type": "code",
   "execution_count": null,
   "metadata": {},
   "outputs": [],
   "source": [
    "func = lambda c: mpl_colors.rgb_to_hsv(mpl_colors.to_rgba(c)[:3])\n",
    "aux_hsv = [[list(func(color_x)), name_x] for name_x, color_x in bn_colors.items()]\n",
    "aux_hsv = sorted(aux_hsv)\n",
    "cnames_sorted = [name for hsv, name in aux_hsv]"
   ]
  },
  {
   "cell_type": "markdown",
   "metadata": {},
   "source": [
    "### Let's do a quick inpection"
   ]
  },
  {
   "cell_type": "code",
   "execution_count": null,
   "metadata": {},
   "outputs": [],
   "source": [
    "fig, ax = plt.subplots(figsize=(8, 8))\n",
    "x = np.linspace(-10, 10, len(cnames_sorted))\n",
    "y = np.power(x, 2)\n",
    "ax.scatter(x, y, c=cnames_sorted, s=40)"
   ]
  },
  {
   "cell_type": "markdown",
   "metadata": {},
   "source": [
    "### Now, plot of the available color, getting some ideas from the matplotlib example"
   ]
  },
  {
   "cell_type": "code",
   "execution_count": null,
   "metadata": {},
   "outputs": [],
   "source": [
    "n = len(cnames_sorted)\n",
    "ncols = 4\n",
    "nrows = n // ncols + 1\n",
    "\n",
    "fig, ax = plt.subplots(figsize=(10, 10))\n",
    "\n",
    "X, Y = fig.get_dpi() * fig.get_size_inches()\n",
    "h = Y / (nrows + 1)\n",
    "w = X / ncols\n",
    "\n",
    "for i, name in enumerate(cnames_sorted):\n",
    "    col = i % ncols\n",
    "    row = i // ncols\n",
    "    y = Y - (row * h) - h\n",
    "\n",
    "    xi = w * (col + 0.05)\n",
    "    # xf_line = w * (col + 0.25)\n",
    "    xi_text = w * (col + 0.13)\n",
    "\n",
    "    ax.text(xi_text, y, name, fontsize=(h * 0.8),\n",
    "            horizontalalignment='left',\n",
    "            verticalalignment='center')\n",
    "    ax.scatter(xi, y, c=name, s=np.random.randint(150, high=250),\n",
    "              edgecolor='k', lw=0.2)\n",
    "    \n",
    "ax.set_xlim(0, X)\n",
    "ax.set_ylim(0, Y)\n",
    "ax.set_axis_off()\n",
    "\n",
    "fig.subplots_adjust(left=0, right=1,\n",
    "                    top=1, bottom=0,\n",
    "                    hspace=0.2, wspace=0.2)\n",
    "if False:\n",
    "    fig.savefig('named_colors.png', dpi=300)"
   ]
  },
  {
   "cell_type": "code",
   "execution_count": null,
   "metadata": {},
   "outputs": [],
   "source": []
  }
 ],
 "metadata": {
  "kernelspec": {
   "display_name": "Python 3",
   "language": "python",
   "name": "python3"
  },
  "language_info": {
   "codemirror_mode": {
    "name": "ipython",
    "version": 3
   },
   "file_extension": ".py",
   "mimetype": "text/x-python",
   "name": "python",
   "nbconvert_exporter": "python",
   "pygments_lexer": "ipython3",
   "version": "3.6.7"
  }
 },
 "nbformat": 4,
 "nbformat_minor": 2
}
