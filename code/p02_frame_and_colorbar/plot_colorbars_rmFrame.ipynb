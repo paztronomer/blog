{
 "cells": [
  {
   "cell_type": "markdown",
   "metadata": {},
   "source": [
    "# Example of how to remove a frame from subplots, setup colorbar with colors for values outside a desired range, and decide on the minor units for axis ticks"
   ]
  },
  {
   "cell_type": "code",
   "execution_count": null,
   "metadata": {},
   "outputs": [],
   "source": [
    "import numpy as np\n",
    "import pandas as pd\n",
    "import matplotlib.pyplot as plt\n",
    "# For colorbar positioning\n",
    "from mpl_toolkits.axes_grid1 import make_axes_locatable\n",
    "# For minor ticks\n",
    "from matplotlib.ticker import MultipleLocator, FormatStrFormatter\n",
    "\n",
    "%matplotlib notebook"
   ]
  },
  {
   "cell_type": "markdown",
   "metadata": {},
   "source": [
    "Defining a dataset"
   ]
  },
  {
   "cell_type": "code",
   "execution_count": null,
   "metadata": {},
   "outputs": [],
   "source": [
    "df = pd.DataFrame(\n",
    "    {'detector': np.arange(1, 27), \n",
    "     'variable01': np.random.randint(1, high=50, size=len(np.arange(1, 27)), dtype=int), \n",
    "     'variable02': np.random.randint(100, high=300, size=len(np.arange(1, 27)), dtype=int),\n",
    "     'feature01': np.sin(np.arange(1, 27)),\n",
    "     'feature02': np.tan(np.arange(1, 27)),\n",
    "     'sizes': np.random.randint(40, high=100, size=len(np.arange(1, 27)), dtype=int),\n",
    "    }\n",
    ")"
   ]
  },
  {
   "cell_type": "markdown",
   "metadata": {},
   "source": [
    "Lets plot!"
   ]
  },
  {
   "cell_type": "code",
   "execution_count": null,
   "metadata": {
    "scrolled": false
   },
   "outputs": [],
   "source": [
    "# We want to force minor locator to be each 5 units in x\n",
    "minor_interval = 5\n",
    "minorLocator = MultipleLocator(minor_interval)\n",
    "\n",
    "var = [colname for colname in df.columns if 'variable' in colname]\n",
    "ft = [f for f in df.columns if 'feature' in f]\n",
    "\n",
    "fig, ax = plt.subplots(2, 2, figsize=(8, 5), sharex=False, sharey=False)\n",
    "for idx, axis in enumerate(ax.flatten()):\n",
    "    # We explicity want to plot only 3 boxes\n",
    "    if (idx < len(var)):\n",
    "        # Subselection of dataframe\n",
    "        im = axis.scatter(df['detector'], df[var[idx]], \n",
    "                          c=df[ft[idx]],\n",
    "                          s=df['sizes'],\n",
    "                          vmax=0.85, \n",
    "                          vmin=-0.3,\n",
    "                          cmap='viridis',\n",
    "                          edgecolors='gray',\n",
    "                          linewidth=0.5,\n",
    "                          )\n",
    "        # Create the subgrid for the colorbars\n",
    "        divider = make_axes_locatable(axis)\n",
    "        caxis = divider.append_axes('right', size='4%', pad=0.1)\n",
    "        # For the upper/lower values we use extend\n",
    "        plt.colorbar(im, cax=caxis, \n",
    "                     extend='both', \n",
    "                     extendfrac=0.2, \n",
    "                     label=r'feature{0:02}'.format(idx + 1)) # or fig.colorbar(im, cax=caxis)\n",
    "        # Set colors for values outside the colorbar\n",
    "        im.cmap.set_under('tomato')\n",
    "        im.cmap.set_over('aqua')\n",
    "        # Force axis limits\n",
    "        axis.set_xlim([-1, 27])\n",
    "        # Set minor locator by hand, as a customization\n",
    "        axis.xaxis.set_minor_locator(minorLocator)\n",
    "        # Set grid\n",
    "        axis.grid(which='minor', alpha=0.3, linestyle='dotted')\n",
    "        axis.grid(which='major', alpha=0.3, linestyle='dotted')\n",
    "        # Axis labels\n",
    "        axis.set_ylabel(var[idx])\n",
    "        # Axis labels\n",
    "        axis.set_xlabel('detector')\n",
    "    elif (idx == 2):\n",
    "        axis.text(0.15, 0.5, 'frame was not removed :(', transform=axis.transAxes, \n",
    "                  color='darkviolet')\n",
    "    else:\n",
    "        # If we ant to erase additional frames, use teh following\n",
    "        axis.axis('off')\n",
    "        axis.text(0.4, 0.5, 'frame was removed :)', transform=axis.transAxes, \n",
    "                  color='darkviolet')\n",
    "\n",
    "# Fine tuning the spacing\n",
    "plt.subplots_adjust(left=0.15, bottom=0.1, right=0.9, top=0.9,                         \n",
    "                    hspace=0.3, wspace=0.7)\n",
    "# Title for all subplots\n",
    "plt.suptitle('Subplots removing last frame, and \\nusing colorbars with above/below custom colors', \n",
    "             color='dodgerblue', fontweight='bold', fontsize=10)\n",
    "\n",
    "# Save as png\n",
    "plt.savefig('subplot_example.png', format='png', dpi=300)"
   ]
  },
  {
   "cell_type": "code",
   "execution_count": null,
   "metadata": {},
   "outputs": [],
   "source": []
  }
 ],
 "metadata": {
  "kernelspec": {
   "display_name": "Python 3",
   "language": "python",
   "name": "python3"
  },
  "language_info": {
   "codemirror_mode": {
    "name": "ipython",
    "version": 3
   },
   "file_extension": ".py",
   "mimetype": "text/x-python",
   "name": "python",
   "nbconvert_exporter": "python",
   "pygments_lexer": "ipython3",
   "version": "3.6.7"
  }
 },
 "nbformat": 4,
 "nbformat_minor": 2
}
